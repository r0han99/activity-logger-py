{
 "cells": [
  {
   "cell_type": "code",
   "execution_count": 3,
   "id": "preceding-there",
   "metadata": {},
   "outputs": [],
   "source": [
    "from datetime import datetime, timedelta\n"
   ]
  },
  {
   "cell_type": "code",
   "execution_count": 17,
   "id": "registered-eugene",
   "metadata": {},
   "outputs": [
    {
     "name": "stdout",
     "output_type": "stream",
     "text": [
      "initial_date 2022-02-13 20:39:26.645424\n",
      "new_final_time 2022-02-15 20:39:26.645424\n",
      "Time difference: 2 days, 0:00:00\n"
     ]
    }
   ],
   "source": [
    "# Using current time\n",
    "ini_time_for_now = datetime.now()\n",
    "  \n",
    "# printing initial_date\n",
    "print (\"initial_date\", str(ini_time_for_now))\n",
    "  \n",
    "# Some another datetime\n",
    "new_final_time = ini_time_for_now + \\\n",
    "                 timedelta(days = 2)\n",
    "  \n",
    "# printing new final_date\n",
    "print (\"new_final_time\", str(new_final_time))\n",
    "  \n",
    "  \n",
    "# printing calculated past_dates\n",
    "print('Time difference:', str(new_final_time - ini_time_for_now))"
   ]
  },
  {
   "cell_type": "code",
   "execution_count": 59,
   "id": "solid-merchandise",
   "metadata": {},
   "outputs": [
    {
     "data": {
      "text/plain": [
       "'2022-02-13_21:03:17'"
      ]
     },
     "execution_count": 59,
     "metadata": {},
     "output_type": "execute_result"
    }
   ],
   "source": [
    "# Wrap -- filename\n",
    "dt = str(datetime.now().strftime('%Y-%m-%d %H:%M:%S'))\n",
    "dt = dt.replace('.','x')\n",
    "newdt = '_'.join(dt.split(' '))\n",
    "newdt"
   ]
  },
  {
   "cell_type": "code",
   "execution_count": 60,
   "id": "standard-appeal",
   "metadata": {},
   "outputs": [
    {
     "data": {
      "text/plain": [
       "'2022-02-13 21:03:17'"
      ]
     },
     "execution_count": 60,
     "metadata": {},
     "output_type": "execute_result"
    }
   ],
   "source": [
    "# unravel \n",
    "newdt = newdt.replace('x','.')\n",
    "newdt = newdt.replace('_', ' ')\n",
    "newdt\n",
    "# followed by conversion and timedelta difference"
   ]
  },
  {
   "cell_type": "code",
   "execution_count": 57,
   "id": "average-consciousness",
   "metadata": {},
   "outputs": [
    {
     "name": "stdout",
     "output_type": "stream",
     "text": [
      "2022-02-13 21:00:10\n",
      "Time difference: -1 day, 23:39:16.645424\n"
     ]
    }
   ],
   "source": [
    "# Time Difference Code\n",
    "test1 = datetime.strptime(newdt, '%Y-%m-%d %H:%M:%S')\n",
    "print(test1)\n",
    "new_final_time = test1 + \\\n",
    "                 timedelta(days = 2)\n",
    "print('Time difference:', str(ini_time_for_now - test1))"
   ]
  },
  {
   "cell_type": "code",
   "execution_count": null,
   "id": "insured-morrison",
   "metadata": {},
   "outputs": [],
   "source": []
  }
 ],
 "metadata": {
  "kernelspec": {
   "display_name": "Python 3",
   "language": "python",
   "name": "python3"
  },
  "language_info": {
   "codemirror_mode": {
    "name": "ipython",
    "version": 3
   },
   "file_extension": ".py",
   "mimetype": "text/x-python",
   "name": "python",
   "nbconvert_exporter": "python",
   "pygments_lexer": "ipython3",
   "version": "3.8.5"
  }
 },
 "nbformat": 4,
 "nbformat_minor": 5
}
